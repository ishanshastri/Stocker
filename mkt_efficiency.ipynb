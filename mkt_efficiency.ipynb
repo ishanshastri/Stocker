{
 "cells": [
  {
   "cell_type": "code",
   "execution_count": 296,
   "metadata": {},
   "outputs": [],
   "source": [
    "\"\"\"Mkt APIs\"\"\"\n",
    "from fredapi import Fred\n",
    "import numpy as np\n",
    "import pandas as pd\n",
    "import yfinance as yf\n",
    "import yahooquery as yq\n",
    "from fredapi import Fred\n",
    "import datetime as dt\n",
    "from scipy import optimize\n",
    "from alpaca.trading.requests import MarketOrderRequest\n",
    "from alpaca.trading.enums import OrderSide, TimeInForce\n",
    "from alpaca.trading.client import TradingClient\n",
    "\n",
    "KEY = \"PKQ9XJDJLTX686HE3ZL9\"\n",
    "SECRET = \"4ES985YvYlOWz0eAtzdhcETJ1asEPBSw3gq9ZXs7\"\n",
    "ENDP = \"https://paper-api.alpaca.markets\"\n",
    "API = TradingClient(KEY, SECRET)\n",
    "STOCK_LIST = [\"AAPL\", \"TSLA\", \"AMZN\", \"GOOG\", \"BA\", \"NKE\", \"AMGN\", \"KO\", \"PG\", \"MSFT\", \"CRM\", \"JPM\"]\n",
    "FRED = Fred(api_key=\"f3fea224d98377beff02b72fbe0cb196\")\n",
    "RRF = (FRED.get_series_latest_release(\"GS10\")/12).iloc[-1]"
   ]
  },
  {
   "cell_type": "code",
   "execution_count": 297,
   "metadata": {},
   "outputs": [],
   "source": [
    "\"\"\"ML libs\"\"\"\n",
    "import tensorflow as tf\n",
    "\n",
    "from tensorflow import keras\n",
    "from tensorflow.keras import layers\n",
    "import tensorflow_probability as tfp"
   ]
  },
  {
   "cell_type": "code",
   "execution_count": 298,
   "metadata": {},
   "outputs": [],
   "source": [
    "def get_data(stocks, start_date, end_date):\n",
    "    stock_data = yf.download(stocks, start_date, end_date)\n",
    "    stock_data = pd.DataFrame(stock_data)\n",
    "    closing_prices = stock_data[\"Close\"]\n",
    "    returns = closing_prices.pct_change()[1:]\n",
    "    log_returns = np.log(returns+1)[1:]\n",
    "    #print(log_returns)\n",
    "    #mean_of_returns = log_returns.mean()\n",
    "    #cov_of_returns = log_returns.cov()\n",
    "\n",
    "\n",
    "    return {\"returns\":returns, \"log_returns\":log_returns}# , mean_of_returns, cov_of_returns"
   ]
  },
  {
   "cell_type": "code",
   "execution_count": 299,
   "metadata": {},
   "outputs": [
    {
     "name": "stdout",
     "output_type": "stream",
     "text": [
      "[*********************100%%**********************]  1 of 1 completed\n"
     ]
    }
   ],
   "source": [
    "\"\"\"Data retrieval test\"\"\"\n",
    "end_date = dt.datetime.now()\n",
    "start_date = end_date - dt.timedelta(days=400)\n",
    "\n",
    "data = get_data([\"BA\"], start_date, end_date)\n",
    "log_returns_pd = data[\"log_returns\"]\n",
    "returns_pd = data[\"returns\"]\n",
    "log_returns = np.array(log_returns_pd)#log_returns_pd.iloc[1]\n",
    "returns = np.array(returns_pd)\n",
    "#print(log_returns)\n",
    "#print(np.array(log_returns_pd))"
   ]
  },
  {
   "cell_type": "code",
   "execution_count": 309,
   "metadata": {},
   "outputs": [],
   "source": [
    "\"\"\"Build regressor\"\"\"\n",
    "#data, i=0, ma=3, ar=7\n",
    "def build_regressor(data, i=0, ma=0, ar=30):\n",
    "    regressor = tfp.sts.AutoregressiveIntegratedMovingAverage(observed_time_series=data, ar_order=ar, ma_order=ma, integration_degree=i)\n",
    "    variational_posts = tfp.sts.build_factored_surrogate_posterior(model=regressor)\n",
    "    # Allow external control of optimization to reduce test runtimes.\n",
    "    num_variational_steps = 200 # @param { isTemplate: true}\n",
    "    num_variational_steps = int(num_variational_steps)\n",
    "\n",
    "    # Build and optimize the variational loss function.\n",
    "    elbo_loss_curve = tfp.vi.fit_surrogate_posterior(\n",
    "        target_log_prob_fn=regressor.joint_distribution(\n",
    "            observed_time_series=data).log_prob,\n",
    "        surrogate_posterior=variational_posts,\n",
    "        optimizer=tf.optimizers.Adam(learning_rate=0.1),\n",
    "        num_steps=num_variational_steps,\n",
    "        jit_compile=True)\n",
    "\n",
    "    return {\"regressor\":regressor, \"variational_posteriors\":variational_posts}\n"
   ]
  },
  {
   "cell_type": "code",
   "execution_count": null,
   "metadata": {},
   "outputs": [],
   "source": []
  },
  {
   "cell_type": "code",
   "execution_count": 301,
   "metadata": {},
   "outputs": [
    {
     "name": "stderr",
     "output_type": "stream",
     "text": [
      "WARNING:absl:At this time, the v2.11+ optimizer `tf.keras.optimizers.Adam` runs slowly on M1/M2 Macs, please use the legacy Keras optimizer instead, located at `tf.keras.optimizers.legacy.Adam`.\n",
      "WARNING:absl:At this time, the v2.11+ optimizer `tf.keras.optimizers.Adam` runs slowly on M1/M2 Macs, please use the legacy Keras optimizer instead, located at `tf.keras.optimizers.legacy.Adam`.\n"
     ]
    }
   ],
   "source": [
    "\"\"\"Sample run\"\"\"\n",
    "log_model = build_regressor(log_returns)\n",
    "raw_model = build_regressor(returns)\n",
    "log_regressor = log_model[\"regressor\"]\n",
    "raw_regressor = raw_model[\"regressor\"]\n",
    "log_post = log_model[\"variational_posteriors\"]\n",
    "raw_post = raw_model[\"variational_posteriors\"]\n",
    "\n"
   ]
  },
  {
   "cell_type": "code",
   "execution_count": 305,
   "metadata": {},
   "outputs": [],
   "source": [
    "#print(log_regressor.ar_coefficients)\n",
    "#print(q_samples_fuck_(log_regressor.parameters[0].name))\n",
    "#print(log_regressor.parameters[0])\n",
    "#print(log_regressor.get_parameter('ar_coefficients'))\n",
    "\n",
    "def get_coeffs(n_samps, log_post=log_post):\n",
    "    samples = log_post.sample(n_samps)\n",
    "    coeffs = samples['ar_coefficients']\n",
    "    coeff_means = np.mean(coeffs, axis=0)\n",
    "    coeff_vars = np.var(coeffs, axis=0)\n",
    "\n",
    "    return {\"coeffs\":coeffs, \"coeff_means\":coeff_means, \"coeff_vars\":coeff_vars}\n",
    "    #print(samples)"
   ]
  },
  {
   "cell_type": "code",
   "execution_count": 303,
   "metadata": {},
   "outputs": [
    {
     "name": "stdout",
     "output_type": "stream",
     "text": [
      "[-0.03569032 -0.01339337 -0.07525522 -0.02671612  0.07680117 -0.01444454\n",
      "  0.05468182 -0.01131654  0.07728874  0.04811299  0.06492027  0.01023161\n",
      "  0.04422125  0.02256129  0.05899598 -0.05496413  0.03904998 -0.00894182\n",
      " -0.02422117 -0.00772497  0.0377469   0.00913858 -0.02433025 -0.05874642\n",
      " -0.0591302  -0.03988716 -0.0272289   0.0444319  -0.06666679 -0.08350266]\n",
      "TIME:  0.04212548808775724\n",
      "MIM (no norm):  0.5496191441473656\n",
      "[0.00044967 0.00044793 0.00031698 0.00050894 0.00040853 0.00108777\n",
      " 0.00020367 0.00022765 0.00023662 0.00035654 0.00138228 0.00047323\n",
      " 0.00098702 0.00070487 0.00024729 0.00036291 0.00068765 0.00039389\n",
      " 0.00249703 0.00153436 0.00027009 0.0009423  0.00055986 0.00042188\n",
      " 0.00051439 0.0004807  0.00013123 0.00139873 0.00131369 0.00196377]\n"
     ]
    }
   ],
   "source": [
    "\"\"\"TIME metric\"\"\"\n",
    "results = get_coeffs(50)\n",
    "mean_coeffs = results['coeff_means']\n",
    "vars = results['coeff_vars']\n",
    "TIME = abs(np.sum(mean_coeffs)/(1-np.sum(mean_coeffs)))\n",
    "MIM_no_norm = np.sum(np.abs(mean_coeffs))/(1+(np.sum(np.abs(mean_coeffs))))\n",
    "print(mean_coeffs)\n",
    "print(\"TIME: \", TIME)\n",
    "print(\"MIM (no norm): \", MIM_no_norm)\n",
    "print(vars)\n"
   ]
  },
  {
   "cell_type": "code",
   "execution_count": 325,
   "metadata": {},
   "outputs": [
    {
     "name": "stderr",
     "output_type": "stream",
     "text": [
      "WARNING:absl:At this time, the v2.11+ optimizer `tf.keras.optimizers.Adam` runs slowly on M1/M2 Macs, please use the legacy Keras optimizer instead, located at `tf.keras.optimizers.legacy.Adam`.\n"
     ]
    },
    {
     "name": "stdout",
     "output_type": "stream",
     "text": [
      "(10000,)\n"
     ]
    },
    {
     "name": "stderr",
     "output_type": "stream",
     "text": [
      "WARNING:absl:At this time, the v2.11+ optimizer `tf.keras.optimizers.Adam` runs slowly on M1/M2 Macs, please use the legacy Keras optimizer instead, located at `tf.keras.optimizers.legacy.Adam`.\n"
     ]
    },
    {
     "name": "stdout",
     "output_type": "stream",
     "text": [
      "(10000,)\n"
     ]
    },
    {
     "name": "stderr",
     "output_type": "stream",
     "text": [
      "WARNING:absl:At this time, the v2.11+ optimizer `tf.keras.optimizers.Adam` runs slowly on M1/M2 Macs, please use the legacy Keras optimizer instead, located at `tf.keras.optimizers.legacy.Adam`.\n"
     ]
    },
    {
     "name": "stdout",
     "output_type": "stream",
     "text": [
      "(10000,)\n"
     ]
    },
    {
     "name": "stderr",
     "output_type": "stream",
     "text": [
      "WARNING:absl:At this time, the v2.11+ optimizer `tf.keras.optimizers.Adam` runs slowly on M1/M2 Macs, please use the legacy Keras optimizer instead, located at `tf.keras.optimizers.legacy.Adam`.\n"
     ]
    },
    {
     "name": "stdout",
     "output_type": "stream",
     "text": [
      "(10000,)\n"
     ]
    },
    {
     "name": "stderr",
     "output_type": "stream",
     "text": [
      "WARNING:absl:At this time, the v2.11+ optimizer `tf.keras.optimizers.Adam` runs slowly on M1/M2 Macs, please use the legacy Keras optimizer instead, located at `tf.keras.optimizers.legacy.Adam`.\n"
     ]
    },
    {
     "name": "stdout",
     "output_type": "stream",
     "text": [
      "(10000,)\n"
     ]
    },
    {
     "name": "stderr",
     "output_type": "stream",
     "text": [
      "WARNING:absl:At this time, the v2.11+ optimizer `tf.keras.optimizers.Adam` runs slowly on M1/M2 Macs, please use the legacy Keras optimizer instead, located at `tf.keras.optimizers.legacy.Adam`.\n"
     ]
    },
    {
     "name": "stdout",
     "output_type": "stream",
     "text": [
      "(10000,)\n"
     ]
    },
    {
     "name": "stderr",
     "output_type": "stream",
     "text": [
      "WARNING:absl:At this time, the v2.11+ optimizer `tf.keras.optimizers.Adam` runs slowly on M1/M2 Macs, please use the legacy Keras optimizer instead, located at `tf.keras.optimizers.legacy.Adam`.\n"
     ]
    },
    {
     "name": "stdout",
     "output_type": "stream",
     "text": [
      "(10000,)\n"
     ]
    },
    {
     "name": "stderr",
     "output_type": "stream",
     "text": [
      "WARNING:absl:At this time, the v2.11+ optimizer `tf.keras.optimizers.Adam` runs slowly on M1/M2 Macs, please use the legacy Keras optimizer instead, located at `tf.keras.optimizers.legacy.Adam`.\n"
     ]
    },
    {
     "name": "stdout",
     "output_type": "stream",
     "text": [
      "(10000,)\n"
     ]
    },
    {
     "name": "stderr",
     "output_type": "stream",
     "text": [
      "WARNING:absl:At this time, the v2.11+ optimizer `tf.keras.optimizers.Adam` runs slowly on M1/M2 Macs, please use the legacy Keras optimizer instead, located at `tf.keras.optimizers.legacy.Adam`.\n"
     ]
    },
    {
     "name": "stdout",
     "output_type": "stream",
     "text": [
      "(10000,)\n"
     ]
    },
    {
     "name": "stderr",
     "output_type": "stream",
     "text": [
      "WARNING:absl:At this time, the v2.11+ optimizer `tf.keras.optimizers.Adam` runs slowly on M1/M2 Macs, please use the legacy Keras optimizer instead, located at `tf.keras.optimizers.legacy.Adam`.\n"
     ]
    },
    {
     "name": "stdout",
     "output_type": "stream",
     "text": [
      "(10000,)\n"
     ]
    },
    {
     "name": "stderr",
     "output_type": "stream",
     "text": [
      "WARNING:absl:At this time, the v2.11+ optimizer `tf.keras.optimizers.Adam` runs slowly on M1/M2 Macs, please use the legacy Keras optimizer instead, located at `tf.keras.optimizers.legacy.Adam`.\n"
     ]
    },
    {
     "name": "stdout",
     "output_type": "stream",
     "text": [
      "(10000,)\n"
     ]
    },
    {
     "name": "stderr",
     "output_type": "stream",
     "text": [
      "WARNING:absl:At this time, the v2.11+ optimizer `tf.keras.optimizers.Adam` runs slowly on M1/M2 Macs, please use the legacy Keras optimizer instead, located at `tf.keras.optimizers.legacy.Adam`.\n"
     ]
    },
    {
     "name": "stdout",
     "output_type": "stream",
     "text": [
      "(10000,)\n"
     ]
    },
    {
     "name": "stderr",
     "output_type": "stream",
     "text": [
      "WARNING:absl:At this time, the v2.11+ optimizer `tf.keras.optimizers.Adam` runs slowly on M1/M2 Macs, please use the legacy Keras optimizer instead, located at `tf.keras.optimizers.legacy.Adam`.\n"
     ]
    },
    {
     "name": "stdout",
     "output_type": "stream",
     "text": [
      "(10000,)\n"
     ]
    }
   ],
   "source": [
    "\"\"\"Looper\"\"\"\n",
    "ar = 7\n",
    "data_size = 20\n",
    "sample_size = 10000\n",
    "amims = []\n",
    "i = 0\n",
    "#for i in range(len(log_returns)-data_size):\n",
    "while (i < len(log_returns)-data_size):\n",
    "    data = log_returns[i:i+data_size]\n",
    "    log_model = build_regressor(data)\n",
    "    log_posts = log_model[\"variational_posteriors\"]\n",
    "    regressor = log_model[\"regressor\"]\n",
    "    coeff_data = get_coeffs(sample_size, log_post=log_posts)['coeffs']\n",
    "    coeff_samps = coeff_data['coeffs']\n",
    "    coeff_means = coeff_data['coeff_means']\n",
    "    coeff_vars = coeff_data['coeff_vars']\n",
    "    print(coeff_samps.shape)\n",
    "    mims = np.sum(np.abs(coeff_samps), axis=1)/(1+(np.sum(np.abs(coeff_samps), axis=1)))\n",
    "    print(mims.shape)\n",
    "    quant = np.quantile(mims, 0.95, method='normal_unbiased')\n",
    "    amim = (np.mean(mims)-quant)/(1-quant)\n",
    "    amims.append(amim)\n",
    "    i += data_size\n",
    "\n",
    "\n"
   ]
  },
  {
   "cell_type": "code",
   "execution_count": 326,
   "metadata": {},
   "outputs": [
    {
     "name": "stdout",
     "output_type": "stream",
     "text": [
      "[-0.16930324519628287, -0.17185347589754904, -0.17750112223374068, -0.1764965101759034, -0.17295889548016236, -0.1828200757434882, -0.17614436202079184, -0.17570706857864643, -0.1727072082121276, -0.1759157513989064, -0.1745596828717624, -0.17771373938315546, -0.1808736419629264]\n"
     ]
    }
   ],
   "source": [
    "print(amims)"
   ]
  }
 ],
 "metadata": {
  "kernelspec": {
   "display_name": "Python 3",
   "language": "python",
   "name": "python3"
  },
  "language_info": {
   "codemirror_mode": {
    "name": "ipython",
    "version": 3
   },
   "file_extension": ".py",
   "mimetype": "text/x-python",
   "name": "python",
   "nbconvert_exporter": "python",
   "pygments_lexer": "ipython3",
   "version": "3.11.6"
  }
 },
 "nbformat": 4,
 "nbformat_minor": 2
}
