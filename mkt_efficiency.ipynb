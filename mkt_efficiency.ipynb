{
 "cells": [
  {
   "cell_type": "code",
   "execution_count": 278,
   "metadata": {},
   "outputs": [],
   "source": [
    "\"\"\"Mkt APIs\"\"\"\n",
    "from fredapi import Fred\n",
    "import numpy as np\n",
    "import pandas as pd\n",
    "import yfinance as yf\n",
    "import yahooquery as yq\n",
    "from fredapi import Fred\n",
    "import datetime as dt\n",
    "from scipy import optimize\n",
    "from alpaca.trading.requests import MarketOrderRequest\n",
    "from alpaca.trading.enums import OrderSide, TimeInForce\n",
    "from alpaca.trading.client import TradingClient\n",
    "\n",
    "KEY = \"PKQ9XJDJLTX686HE3ZL9\"\n",
    "SECRET = \"4ES985YvYlOWz0eAtzdhcETJ1asEPBSw3gq9ZXs7\"\n",
    "ENDP = \"https://paper-api.alpaca.markets\"\n",
    "API = TradingClient(KEY, SECRET)\n",
    "STOCK_LIST = [\"AAPL\", \"TSLA\", \"AMZN\", \"GOOG\", \"BA\", \"NKE\", \"AMGN\", \"KO\", \"PG\", \"MSFT\", \"CRM\", \"JPM\"]\n",
    "FRED = Fred(api_key=\"f3fea224d98377beff02b72fbe0cb196\")\n",
    "RRF = (FRED.get_series_latest_release(\"GS10\")/12).iloc[-1]"
   ]
  },
  {
   "cell_type": "code",
   "execution_count": 279,
   "metadata": {},
   "outputs": [],
   "source": [
    "\"\"\"ML libs\"\"\"\n",
    "import tensorflow as tf\n",
    "\n",
    "from tensorflow import keras\n",
    "from tensorflow.keras import layers\n",
    "import tensorflow_probability as tfp"
   ]
  },
  {
   "cell_type": "code",
   "execution_count": 280,
   "metadata": {},
   "outputs": [],
   "source": [
    "def get_data(stocks, start_date, end_date):\n",
    "    stock_data = yf.download(stocks, start_date, end_date)\n",
    "    stock_data = pd.DataFrame(stock_data)\n",
    "    closing_prices = stock_data[\"Close\"]\n",
    "    returns = closing_prices.pct_change()[1:]\n",
    "    log_returns = np.log(returns+1)[1:]\n",
    "    #print(log_returns)\n",
    "    #mean_of_returns = log_returns.mean()\n",
    "    #cov_of_returns = log_returns.cov()\n",
    "\n",
    "\n",
    "    return {\"returns\":returns, \"log_returns\":log_returns}# , mean_of_returns, cov_of_returns"
   ]
  },
  {
   "cell_type": "code",
   "execution_count": 281,
   "metadata": {},
   "outputs": [
    {
     "name": "stdout",
     "output_type": "stream",
     "text": [
      "[*********************100%%**********************]  1 of 1 completed\n"
     ]
    }
   ],
   "source": [
    "\"\"\"Data retrieval test\"\"\"\n",
    "end_date = dt.datetime.now()\n",
    "start_date = end_date - dt.timedelta(days=400)\n",
    "\n",
    "data = get_data([\"BA\"], start_date, end_date)\n",
    "log_returns_pd = data[\"log_returns\"]\n",
    "returns_pd = data[\"returns\"]\n",
    "log_returns = np.array(log_returns_pd)#log_returns_pd.iloc[1]\n",
    "returns = np.array(returns_pd)\n",
    "#print(log_returns)\n",
    "#print(np.array(log_returns_pd))"
   ]
  },
  {
   "cell_type": "code",
   "execution_count": 282,
   "metadata": {},
   "outputs": [],
   "source": [
    "\"\"\"Build regressor\"\"\"\n",
    "def build_regressor(data, i=0, ma=3, ar=7):\n",
    "    regressor = tfp.sts.AutoregressiveIntegratedMovingAverage(observed_time_series=data, ar_order=ar, ma_order=ma, integration_degree=i)\n",
    "    variational_posts = tfp.sts.build_factored_surrogate_posterior(model=regressor)\n",
    "    # Allow external control of optimization to reduce test runtimes.\n",
    "    num_variational_steps = 200 # @param { isTemplate: true}\n",
    "    num_variational_steps = int(num_variational_steps)\n",
    "\n",
    "    # Build and optimize the variational loss function.\n",
    "    elbo_loss_curve = tfp.vi.fit_surrogate_posterior(\n",
    "        target_log_prob_fn=regressor.joint_distribution(\n",
    "            observed_time_series=data).log_prob,\n",
    "        surrogate_posterior=variational_posts,\n",
    "        optimizer=tf.optimizers.Adam(learning_rate=0.1),\n",
    "        num_steps=num_variational_steps,\n",
    "        jit_compile=True)\n",
    "\n",
    "    return {\"regressor\":regressor, \"variational_posteriors\":variational_posts}\n"
   ]
  },
  {
   "cell_type": "code",
   "execution_count": 283,
   "metadata": {},
   "outputs": [
    {
     "name": "stderr",
     "output_type": "stream",
     "text": [
      "WARNING:absl:At this time, the v2.11+ optimizer `tf.keras.optimizers.Adam` runs slowly on M1/M2 Macs, please use the legacy Keras optimizer instead, located at `tf.keras.optimizers.legacy.Adam`.\n",
      "WARNING:absl:At this time, the v2.11+ optimizer `tf.keras.optimizers.Adam` runs slowly on M1/M2 Macs, please use the legacy Keras optimizer instead, located at `tf.keras.optimizers.legacy.Adam`.\n"
     ]
    }
   ],
   "source": [
    "\"\"\"Sample run\"\"\"\n",
    "log_model = build_regressor(log_returns)\n",
    "raw_model = build_regressor(returns)\n",
    "log_regressor = log_model[\"regressor\"]\n",
    "raw_regressor = raw_model[\"regressor\"]\n",
    "log_post = log_model[\"variational_posteriors\"]\n",
    "raw_post = raw_model[\"variational_posteriors\"]\n",
    "\n"
   ]
  },
  {
   "cell_type": "code",
   "execution_count": 284,
   "metadata": {},
   "outputs": [],
   "source": [
    "#print(log_regressor.ar_coefficients)\n",
    "#print(q_samples_fuck_(log_regressor.parameters[0].name))\n",
    "#print(log_regressor.parameters[0])\n",
    "#print(log_regressor.get_parameter('ar_coefficients'))\n",
    "\n",
    "def get_coeffs(n_samps):\n",
    "    samples = log_post.sample(n_samps)\n",
    "    coeffs = samples['ar_coefficients']\n",
    "    coeff_means = np.mean(coeffs, axis=0)\n",
    "\n",
    "    return {\"coeffs\":coeffs, \"coeff_means\":coeff_means}\n",
    "    #print(samples)"
   ]
  },
  {
   "cell_type": "code",
   "execution_count": 285,
   "metadata": {},
   "outputs": [
    {
     "name": "stdout",
     "output_type": "stream",
     "text": [
      "[ 0.64189032 -0.51298645 -0.15916194  0.0631229   0.02492813 -0.01669281\n",
      "  0.09172631]\n",
      "TIME:  0.15317171352477008\n",
      "MIM (no norm):  0.601674378445515\n"
     ]
    }
   ],
   "source": [
    "\"\"\"TIME metric\"\"\"\n",
    "mean_coeffs = get_coeffs(50)['coeff_means']\n",
    "TIME = abs(np.sum(mean_coeffs)/(1-np.sum(mean_coeffs)))\n",
    "MIM_no_norm = np.sum(np.abs(mean_coeffs))/(1+(np.sum(np.abs(mean_coeffs))))\n",
    "print(mean_coeffs)\n",
    "print(\"TIME: \", TIME)\n",
    "print(\"MIM (no norm): \", MIM_no_norm)"
   ]
  }
 ],
 "metadata": {
  "kernelspec": {
   "display_name": "Python 3",
   "language": "python",
   "name": "python3"
  },
  "language_info": {
   "codemirror_mode": {
    "name": "ipython",
    "version": 3
   },
   "file_extension": ".py",
   "mimetype": "text/x-python",
   "name": "python",
   "nbconvert_exporter": "python",
   "pygments_lexer": "ipython3",
   "version": "3.11.6"
  }
 },
 "nbformat": 4,
 "nbformat_minor": 2
}
